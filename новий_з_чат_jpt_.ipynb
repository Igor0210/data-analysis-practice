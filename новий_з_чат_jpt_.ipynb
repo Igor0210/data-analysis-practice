{
  "nbformat": 4,
  "nbformat_minor": 0,
  "metadata": {
    "colab": {
      "provenance": [],
      "toc_visible": true,
      "authorship_tag": "ABX9TyOoCgQeWg9KB1+iTWZCHGe1",
      "include_colab_link": true
    },
    "kernelspec": {
      "name": "python3",
      "display_name": "Python 3"
    },
    "language_info": {
      "name": "python"
    }
  },
  "cells": [
    {
      "cell_type": "markdown",
      "metadata": {
        "id": "view-in-github",
        "colab_type": "text"
      },
      "source": [
        "<a href=\"https://colab.research.google.com/github/Igor0210/data-analysis-practice/blob/main/%D0%BD%D0%BE%D0%B2%D0%B8%D0%B9_%D0%B7_%D1%87%D0%B0%D1%82_jpt_.ipynb\" target=\"_parent\"><img src=\"https://colab.research.google.com/assets/colab-badge.svg\" alt=\"Open In Colab\"/></a>"
      ]
    },
    {
      "cell_type": "code",
      "execution_count": null,
      "metadata": {
        "id": "V7MMVXMEQ3x0"
      },
      "outputs": [],
      "source": [
        "# Вступ до Python\n",
        "\n",
        "## Завдання 1: Основи Python\n",
        "\n",
        "### 1. Виведення тексту на екран\n",
        "Напиши код, який виведе текст \"Привіт, світ!\"\n",
        "\n",
        "```python\n",
        "# Твій код тут\n",
        "print(\"Привіт, світ!\")"
      ]
    },
    {
      "cell_type": "code",
      "source": [
        "10 + 5\n",
        "20 - 7\n",
        "15 * 2\n",
        "30 / 6\n",
        "a =10+5\n",
        "b= 20 - 7\n",
        "c = 15 * 2\n",
        "d = 30/6\n",
        "print(a, b, c, d)"
      ],
      "metadata": {
        "colab": {
          "base_uri": "https://localhost:8080/"
        },
        "id": "dUCLgsDeRRJX",
        "outputId": "b42ff0af-b972-4d2a-8885-3c480147373d"
      },
      "execution_count": 3,
      "outputs": [
        {
          "output_type": "stream",
          "name": "stdout",
          "text": [
            "15 13 30 5.0\n"
          ]
        }
      ]
    },
    {
      "cell_type": "markdown",
      "source": [
        "cтвори список, який містить такі числа: 1, 2, 3, 4, 5. Виконай наступні дії:\n",
        "\n",
        "Додай до списку число 6.\n",
        "Видали зі списку число 3.\n",
        " Виведи довжину списку."
      ],
      "metadata": {
        "id": "D3jysXbmSGLO"
      }
    },
    {
      "cell_type": "code",
      "source": [
        "list = [1,2,3,4,5]\n",
        "print(list)\n",
        "list.append(6)\n",
        "print(list)\n",
        "list.remove(3)\n",
        "print(list)\n",
        "len(list)\n"
      ],
      "metadata": {
        "colab": {
          "base_uri": "https://localhost:8080/"
        },
        "id": "osoC3iyQSPBq",
        "outputId": "d9db0466-f0dc-4e92-9c01-156b7d77fa25"
      },
      "execution_count": 18,
      "outputs": [
        {
          "output_type": "stream",
          "name": "stdout",
          "text": [
            "[1, 2, 3, 4, 5]\n",
            "[1, 2, 3, 4, 5, 6]\n",
            "[1, 2, 4, 5, 6]\n"
          ]
        },
        {
          "output_type": "execute_result",
          "data": {
            "text/plain": [
              "5"
            ]
          },
          "metadata": {},
          "execution_count": 18
        }
      ]
    },
    {
      "cell_type": "code",
      "source": [
        "list = [5, 2, 9, 1, 7]\n",
        "print(\"Початковий список:\", list)\n",
        "\n",
        "# Сортування за зростанням\n",
        "list.sort()\n",
        "print(\"Список за зростанням:\", list)\n",
        "\n",
        "list.reverse()\n",
        "print(\"Реверс списку:\", list)\n",
        "\n",
        "# Сортування за спаданням\n",
        "list.sort(reverse=True)\n",
        "print(\"Список за спаданням:\", list)\n",
        "\n",
        "# Реверс\n",
        "list.reverse()\n",
        "print(\"Реверс списку:\", list)\n"
      ],
      "metadata": {
        "colab": {
          "base_uri": "https://localhost:8080/"
        },
        "id": "2LFaKCurV52w",
        "outputId": "2ba72881-ad61-4b4c-cbde-bb07b7d7acba"
      },
      "execution_count": 22,
      "outputs": [
        {
          "output_type": "stream",
          "name": "stdout",
          "text": [
            "Початковий список: [5, 2, 9, 1, 7]\n",
            "Список за зростанням: [1, 2, 5, 7, 9]\n",
            "Реверс списку: [9, 7, 5, 2, 1]\n",
            "Список за спаданням: [9, 7, 5, 2, 1]\n",
            "Реверс списку: [1, 2, 5, 7, 9]\n"
          ]
        }
      ]
    },
    {
      "cell_type": "markdown",
      "source": [
        "4. Цикли\n",
        "Напиши цикл, який виведе всі числа від 1 до 10."
      ],
      "metadata": {
        "id": "HlOJfnG9Syd_"
      }
    },
    {
      "cell_type": "code",
      "source": [
        "d = range(1,11)\n",
        "print(*range(1,11))"
      ],
      "metadata": {
        "colab": {
          "base_uri": "https://localhost:8080/"
        },
        "id": "jbRDtXV0Sz5G",
        "outputId": "f40bfa63-245e-4cc2-b300-f8e6afd80320"
      },
      "execution_count": 27,
      "outputs": [
        {
          "output_type": "stream",
          "name": "stdout",
          "text": [
            "1 2 3 4 5 6 7 8 9 10\n"
          ]
        }
      ]
    },
    {
      "cell_type": "code",
      "source": [
        "list(range(1,11))"
      ],
      "metadata": {
        "colab": {
          "base_uri": "https://localhost:8080/"
        },
        "id": "8vKefcYig_5q",
        "outputId": "fad11939-7089-49e4-fa4c-e6042ce3bbbe"
      },
      "execution_count": 1,
      "outputs": [
        {
          "output_type": "execute_result",
          "data": {
            "text/plain": [
              "[1, 2, 3, 4, 5, 6, 7, 8, 9, 10]"
            ]
          },
          "metadata": {},
          "execution_count": 1
        }
      ]
    },
    {
      "cell_type": "markdown",
      "source": [
        "5. Додаткове завдання (необов'язкове)\n",
        "Напиши код, який визначає, чи є число парним або непарним. Перевір це для числа 15."
      ],
      "metadata": {
        "id": "ZjGZUC_9TiPn"
      }
    },
    {
      "cell_type": "code",
      "source": [
        "a =15\n",
        "if a % 2 == 0:\n",
        "  print('є парним')\n",
        "else:\n",
        "  print('є непарним')"
      ],
      "metadata": {
        "colab": {
          "base_uri": "https://localhost:8080/"
        },
        "id": "cJJk6_9oTja2",
        "outputId": "4cbd2eae-1263-4568-d721-d1e20e5fecba"
      },
      "execution_count": 13,
      "outputs": [
        {
          "output_type": "stream",
          "name": "stdout",
          "text": [
            "є непарним\n"
          ]
        }
      ]
    }
  ]
}